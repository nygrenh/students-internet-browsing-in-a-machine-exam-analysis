{
 "cells": [
  {
   "cell_type": "code",
   "execution_count": 19,
   "metadata": {},
   "outputs": [
    {
     "data": {
      "text/html": [
       "<div>\n",
       "<style scoped>\n",
       "    .dataframe tbody tr th:only-of-type {\n",
       "        vertical-align: middle;\n",
       "    }\n",
       "\n",
       "    .dataframe tbody tr th {\n",
       "        vertical-align: top;\n",
       "    }\n",
       "\n",
       "    .dataframe thead th {\n",
       "        text-align: right;\n",
       "    }\n",
       "</style>\n",
       "<table border=\"1\" class=\"dataframe\">\n",
       "  <thead>\n",
       "    <tr style=\"text-align: right;\">\n",
       "      <th></th>\n",
       "      <th>points</th>\n",
       "      <th>visited_links</th>\n",
       "      <th>visited_domains</th>\n",
       "      <th>stack_overflow</th>\n",
       "      <th>google</th>\n",
       "      <th>tmc</th>\n",
       "      <th>other</th>\n",
       "      <th>mooc_fi</th>\n",
       "      <th>course_material</th>\n",
       "      <th>javadoc</th>\n",
       "    </tr>\n",
       "  </thead>\n",
       "  <tbody>\n",
       "    <tr>\n",
       "      <th>count</th>\n",
       "      <td>114.000000</td>\n",
       "      <td>114.000000</td>\n",
       "      <td>114.000000</td>\n",
       "      <td>114.000000</td>\n",
       "      <td>114.000000</td>\n",
       "      <td>114.000000</td>\n",
       "      <td>114.000000</td>\n",
       "      <td>114.000000</td>\n",
       "      <td>114.000000</td>\n",
       "      <td>114.000000</td>\n",
       "    </tr>\n",
       "    <tr>\n",
       "      <th>mean</th>\n",
       "      <td>8.368421</td>\n",
       "      <td>25.815789</td>\n",
       "      <td>4.324561</td>\n",
       "      <td>3.684211</td>\n",
       "      <td>7.482456</td>\n",
       "      <td>4.298246</td>\n",
       "      <td>1.307018</td>\n",
       "      <td>2.359649</td>\n",
       "      <td>6.096491</td>\n",
       "      <td>0.587719</td>\n",
       "    </tr>\n",
       "    <tr>\n",
       "      <th>std</th>\n",
       "      <td>2.756370</td>\n",
       "      <td>22.369609</td>\n",
       "      <td>1.948431</td>\n",
       "      <td>5.052496</td>\n",
       "      <td>8.540619</td>\n",
       "      <td>11.650462</td>\n",
       "      <td>2.496465</td>\n",
       "      <td>2.746284</td>\n",
       "      <td>6.613166</td>\n",
       "      <td>1.431698</td>\n",
       "    </tr>\n",
       "    <tr>\n",
       "      <th>min</th>\n",
       "      <td>1.000000</td>\n",
       "      <td>0.000000</td>\n",
       "      <td>0.000000</td>\n",
       "      <td>0.000000</td>\n",
       "      <td>0.000000</td>\n",
       "      <td>0.000000</td>\n",
       "      <td>0.000000</td>\n",
       "      <td>0.000000</td>\n",
       "      <td>0.000000</td>\n",
       "      <td>0.000000</td>\n",
       "    </tr>\n",
       "    <tr>\n",
       "      <th>25%</th>\n",
       "      <td>6.250000</td>\n",
       "      <td>11.000000</td>\n",
       "      <td>3.000000</td>\n",
       "      <td>0.000000</td>\n",
       "      <td>1.000000</td>\n",
       "      <td>0.000000</td>\n",
       "      <td>0.000000</td>\n",
       "      <td>0.000000</td>\n",
       "      <td>2.000000</td>\n",
       "      <td>0.000000</td>\n",
       "    </tr>\n",
       "    <tr>\n",
       "      <th>50%</th>\n",
       "      <td>8.000000</td>\n",
       "      <td>21.500000</td>\n",
       "      <td>4.000000</td>\n",
       "      <td>1.000000</td>\n",
       "      <td>5.000000</td>\n",
       "      <td>0.000000</td>\n",
       "      <td>0.000000</td>\n",
       "      <td>2.000000</td>\n",
       "      <td>4.000000</td>\n",
       "      <td>0.000000</td>\n",
       "    </tr>\n",
       "    <tr>\n",
       "      <th>75%</th>\n",
       "      <td>9.750000</td>\n",
       "      <td>33.750000</td>\n",
       "      <td>5.000000</td>\n",
       "      <td>6.000000</td>\n",
       "      <td>12.000000</td>\n",
       "      <td>0.000000</td>\n",
       "      <td>2.000000</td>\n",
       "      <td>3.000000</td>\n",
       "      <td>8.000000</td>\n",
       "      <td>0.750000</td>\n",
       "    </tr>\n",
       "    <tr>\n",
       "      <th>max</th>\n",
       "      <td>15.000000</td>\n",
       "      <td>110.000000</td>\n",
       "      <td>9.000000</td>\n",
       "      <td>29.000000</td>\n",
       "      <td>45.000000</td>\n",
       "      <td>84.000000</td>\n",
       "      <td>20.000000</td>\n",
       "      <td>15.000000</td>\n",
       "      <td>30.000000</td>\n",
       "      <td>8.000000</td>\n",
       "    </tr>\n",
       "  </tbody>\n",
       "</table>\n",
       "</div>"
      ],
      "text/plain": [
       "           points  visited_links  visited_domains  stack_overflow      google  \\\n",
       "count  114.000000     114.000000       114.000000      114.000000  114.000000   \n",
       "mean     8.368421      25.815789         4.324561        3.684211    7.482456   \n",
       "std      2.756370      22.369609         1.948431        5.052496    8.540619   \n",
       "min      1.000000       0.000000         0.000000        0.000000    0.000000   \n",
       "25%      6.250000      11.000000         3.000000        0.000000    1.000000   \n",
       "50%      8.000000      21.500000         4.000000        1.000000    5.000000   \n",
       "75%      9.750000      33.750000         5.000000        6.000000   12.000000   \n",
       "max     15.000000     110.000000         9.000000       29.000000   45.000000   \n",
       "\n",
       "              tmc       other     mooc_fi  course_material     javadoc  \n",
       "count  114.000000  114.000000  114.000000       114.000000  114.000000  \n",
       "mean     4.298246    1.307018    2.359649         6.096491    0.587719  \n",
       "std     11.650462    2.496465    2.746284         6.613166    1.431698  \n",
       "min      0.000000    0.000000    0.000000         0.000000    0.000000  \n",
       "25%      0.000000    0.000000    0.000000         2.000000    0.000000  \n",
       "50%      0.000000    0.000000    2.000000         4.000000    0.000000  \n",
       "75%      0.000000    2.000000    3.000000         8.000000    0.750000  \n",
       "max     84.000000   20.000000   15.000000        30.000000    8.000000  "
      ]
     },
     "execution_count": 19,
     "metadata": {},
     "output_type": "execute_result"
    }
   ],
   "source": [
    "import pandas as pd\n",
    "import matplotlib.pyplot as plt\n",
    "\n",
    "data = pd.read_csv('points_links.csv')\n",
    "\n",
    "data.describe()"
   ]
  },
  {
   "cell_type": "code",
   "execution_count": 20,
   "metadata": {},
   "outputs": [
    {
     "data": {
      "text/plain": [
       "<matplotlib.collections.PathCollection at 0x7f42899df710>"
      ]
     },
     "execution_count": 20,
     "metadata": {},
     "output_type": "execute_result"
    },
    {
     "data": {
      "image/png": "[encoded data removed]",
      "text/plain": [
       "<matplotlib.figure.Figure at 0x7f4289a01c88>"
      ]
     },
     "metadata": {},
     "output_type": "display_data"
    }
   ],
   "source": [
    "%matplotlib inline\n",
    "\n",
    "plt.scatter(data.points, data.visited_links)"
   ]
  },
  {
   "cell_type": "code",
   "execution_count": 21,
   "metadata": {},
   "outputs": [
    {
     "data": {
      "text/plain": [
       "SpearmanrResult(correlation=-0.23595706505021635, pvalue=0.01149233195559375)"
      ]
     },
     "execution_count": 21,
     "metadata": {},
     "output_type": "execute_result"
    }
   ],
   "source": [
    "from scipy.stats.stats import spearmanr\n",
    "\n",
    "cor = spearmanr(data.points, data.visited_links)\n",
    "cor"
   ]
  },
  {
   "cell_type": "code",
   "execution_count": 22,
   "metadata": {},
   "outputs": [
    {
     "data": {
      "text/plain": [
       "<matplotlib.collections.PathCollection at 0x7f42899413c8>"
      ]
     },
     "execution_count": 22,
     "metadata": {},
     "output_type": "execute_result"
    },
    {
     "data": {
      "image/png": "[encoded data removed]",
      "text/plain": [
       "<matplotlib.figure.Figure at 0x7f4289977978>"
      ]
     },
     "metadata": {},
     "output_type": "display_data"
    }
   ],
   "source": [
    "plt.scatter(data.points, data.visited_domains)"
   ]
  },
  {
   "cell_type": "code",
   "execution_count": 23,
   "metadata": {},
   "outputs": [
    {
     "data": {
      "text/plain": [
       "SpearmanrResult(correlation=-0.17728423120320791, pvalue=0.059161259349101963)"
      ]
     },
     "execution_count": 23,
     "metadata": {},
     "output_type": "execute_result"
    }
   ],
   "source": [
    "spearmanr(data.points, data.visited_domains)"
   ]
  },
  {
   "cell_type": "code",
   "execution_count": 25,
   "metadata": {},
   "outputs": [
    {
     "name": "stdout",
     "output_type": "stream",
     "text": [
      "Correlation for stack_overflow SpearmanrResult(correlation=-0.072682178292758401, pvalue=0.44219130693200615)\n",
      "Correlation for google SpearmanrResult(correlation=-0.18097558456853899, pvalue=0.053987306971744968)\n",
      "Correlation for tmc SpearmanrResult(correlation=-0.16075130391509293, pvalue=0.087530772892035633)\n",
      "Correlation for other SpearmanrResult(correlation=-0.1487913235223508, pvalue=0.11411676335951283)\n",
      "Correlation for mooc_fi SpearmanrResult(correlation=-0.081410538456199985, pvalue=0.38919522031400655)\n",
      "Correlation for course_material SpearmanrResult(correlation=-0.23956714348785119, pvalue=0.010252761402746769)\n",
      "Correlation for javadoc SpearmanrResult(correlation=-0.074836570276359107, pvalue=0.42874527087568581)\n"
     ]
    }
   ],
   "source": [
    "def cor(field):\n",
    "    print(\"Correlation for\", field, spearmanr(data.points, data[field]))\n",
    "\n",
    "cor('stack_overflow')\n",
    "cor('google')\n",
    "cor('tmc')\n",
    "cor('other')\n",
    "cor('mooc_fi')\n",
    "cor('course_material')\n",
    "cor('javadoc')"
   ]
  },
  {
   "cell_type": "code",
   "execution_count": 28,
   "metadata": {},
   "outputs": [
    {
     "data": {
      "text/plain": [
       "<matplotlib.collections.PathCollection at 0x7f428986ccf8>"
      ]
     },
     "execution_count": 28,
     "metadata": {},
     "output_type": "execute_result"
    },
    {
     "data": {
      "image/png": "[encoded data removed]",
      "text/plain": [
       "<matplotlib.figure.Figure at 0x7f42898cb8d0>"
      ]
     },
     "metadata": {},
     "output_type": "display_data"
    }
   ],
   "source": [
    "plt.scatter(data.points, data.google)"
   ]
  }
 ],
 "metadata": {
  "kernelspec": {
   "display_name": "Python 3",
   "language": "python",
   "name": "python3"
  },
  "language_info": {
   "codemirror_mode": {
    "name": "ipython",
    "version": 3
   },
   "file_extension": ".py",
   "mimetype": "text/x-python",
   "name": "python",
   "nbconvert_exporter": "python",
   "pygments_lexer": "ipython3",
   "version": "3.6.3"
  }
 },
 "nbformat": 4,
 "nbformat_minor": 2
}
